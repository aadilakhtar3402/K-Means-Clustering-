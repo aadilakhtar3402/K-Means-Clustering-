{
 "cells": [
  {
   "cell_type": "code",
   "execution_count": 571,
   "id": "7ee7c119",
   "metadata": {},
   "outputs": [],
   "source": [
    "import numpy as np\n",
    "import pandas as pd\n",
    "import random as rd\n",
    "import matplotlib.pyplot as plt\n",
    "%matplotlib inline"
   ]
  },
  {
   "cell_type": "code",
   "execution_count": 572,
   "id": "5ea2a383",
   "metadata": {},
   "outputs": [
    {
     "data": {
      "text/html": [
       "<div>\n",
       "<style scoped>\n",
       "    .dataframe tbody tr th:only-of-type {\n",
       "        vertical-align: middle;\n",
       "    }\n",
       "\n",
       "    .dataframe tbody tr th {\n",
       "        vertical-align: top;\n",
       "    }\n",
       "\n",
       "    .dataframe thead th {\n",
       "        text-align: right;\n",
       "    }\n",
       "</style>\n",
       "<table border=\"1\" class=\"dataframe\">\n",
       "  <thead>\n",
       "    <tr style=\"text-align: right;\">\n",
       "      <th></th>\n",
       "      <th>Name</th>\n",
       "      <th>Age</th>\n",
       "      <th>Income($)</th>\n",
       "    </tr>\n",
       "  </thead>\n",
       "  <tbody>\n",
       "    <tr>\n",
       "      <th>0</th>\n",
       "      <td>Rob</td>\n",
       "      <td>27</td>\n",
       "      <td>70000</td>\n",
       "    </tr>\n",
       "    <tr>\n",
       "      <th>1</th>\n",
       "      <td>Michael</td>\n",
       "      <td>29</td>\n",
       "      <td>90000</td>\n",
       "    </tr>\n",
       "    <tr>\n",
       "      <th>2</th>\n",
       "      <td>Mohan</td>\n",
       "      <td>29</td>\n",
       "      <td>61000</td>\n",
       "    </tr>\n",
       "    <tr>\n",
       "      <th>3</th>\n",
       "      <td>Ismail</td>\n",
       "      <td>28</td>\n",
       "      <td>60000</td>\n",
       "    </tr>\n",
       "    <tr>\n",
       "      <th>4</th>\n",
       "      <td>Kory</td>\n",
       "      <td>42</td>\n",
       "      <td>150000</td>\n",
       "    </tr>\n",
       "    <tr>\n",
       "      <th>5</th>\n",
       "      <td>Gautam</td>\n",
       "      <td>39</td>\n",
       "      <td>155000</td>\n",
       "    </tr>\n",
       "    <tr>\n",
       "      <th>6</th>\n",
       "      <td>David</td>\n",
       "      <td>41</td>\n",
       "      <td>160000</td>\n",
       "    </tr>\n",
       "    <tr>\n",
       "      <th>7</th>\n",
       "      <td>Andrea</td>\n",
       "      <td>38</td>\n",
       "      <td>162000</td>\n",
       "    </tr>\n",
       "    <tr>\n",
       "      <th>8</th>\n",
       "      <td>Brad</td>\n",
       "      <td>36</td>\n",
       "      <td>156000</td>\n",
       "    </tr>\n",
       "    <tr>\n",
       "      <th>9</th>\n",
       "      <td>Angelina</td>\n",
       "      <td>35</td>\n",
       "      <td>130000</td>\n",
       "    </tr>\n",
       "    <tr>\n",
       "      <th>10</th>\n",
       "      <td>Donald</td>\n",
       "      <td>37</td>\n",
       "      <td>137000</td>\n",
       "    </tr>\n",
       "    <tr>\n",
       "      <th>11</th>\n",
       "      <td>Tom</td>\n",
       "      <td>26</td>\n",
       "      <td>45000</td>\n",
       "    </tr>\n",
       "    <tr>\n",
       "      <th>12</th>\n",
       "      <td>Arnold</td>\n",
       "      <td>27</td>\n",
       "      <td>48000</td>\n",
       "    </tr>\n",
       "    <tr>\n",
       "      <th>13</th>\n",
       "      <td>Jared</td>\n",
       "      <td>28</td>\n",
       "      <td>51000</td>\n",
       "    </tr>\n",
       "    <tr>\n",
       "      <th>14</th>\n",
       "      <td>Stark</td>\n",
       "      <td>29</td>\n",
       "      <td>49500</td>\n",
       "    </tr>\n",
       "    <tr>\n",
       "      <th>15</th>\n",
       "      <td>Ranbir</td>\n",
       "      <td>32</td>\n",
       "      <td>53000</td>\n",
       "    </tr>\n",
       "    <tr>\n",
       "      <th>16</th>\n",
       "      <td>Dipika</td>\n",
       "      <td>40</td>\n",
       "      <td>65000</td>\n",
       "    </tr>\n",
       "    <tr>\n",
       "      <th>17</th>\n",
       "      <td>Priyanka</td>\n",
       "      <td>41</td>\n",
       "      <td>63000</td>\n",
       "    </tr>\n",
       "    <tr>\n",
       "      <th>18</th>\n",
       "      <td>Nick</td>\n",
       "      <td>43</td>\n",
       "      <td>64000</td>\n",
       "    </tr>\n",
       "    <tr>\n",
       "      <th>19</th>\n",
       "      <td>Alia</td>\n",
       "      <td>39</td>\n",
       "      <td>80000</td>\n",
       "    </tr>\n",
       "    <tr>\n",
       "      <th>20</th>\n",
       "      <td>Sid</td>\n",
       "      <td>41</td>\n",
       "      <td>82000</td>\n",
       "    </tr>\n",
       "    <tr>\n",
       "      <th>21</th>\n",
       "      <td>Abdul</td>\n",
       "      <td>39</td>\n",
       "      <td>58000</td>\n",
       "    </tr>\n",
       "    <tr>\n",
       "      <th>22</th>\n",
       "      <td>Bale</td>\n",
       "      <td>40</td>\n",
       "      <td>157000</td>\n",
       "    </tr>\n",
       "    <tr>\n",
       "      <th>23</th>\n",
       "      <td>Tony</td>\n",
       "      <td>38</td>\n",
       "      <td>60000</td>\n",
       "    </tr>\n",
       "    <tr>\n",
       "      <th>24</th>\n",
       "      <td>Jennifer</td>\n",
       "      <td>26</td>\n",
       "      <td>49000</td>\n",
       "    </tr>\n",
       "    <tr>\n",
       "      <th>25</th>\n",
       "      <td>Charles</td>\n",
       "      <td>42</td>\n",
       "      <td>65000</td>\n",
       "    </tr>\n",
       "  </tbody>\n",
       "</table>\n",
       "</div>"
      ],
      "text/plain": [
       "        Name  Age  Income($)\n",
       "0        Rob   27      70000\n",
       "1    Michael   29      90000\n",
       "2      Mohan   29      61000\n",
       "3     Ismail   28      60000\n",
       "4       Kory   42     150000\n",
       "5     Gautam   39     155000\n",
       "6      David   41     160000\n",
       "7     Andrea   38     162000\n",
       "8       Brad   36     156000\n",
       "9   Angelina   35     130000\n",
       "10    Donald   37     137000\n",
       "11       Tom   26      45000\n",
       "12    Arnold   27      48000\n",
       "13     Jared   28      51000\n",
       "14     Stark   29      49500\n",
       "15    Ranbir   32      53000\n",
       "16    Dipika   40      65000\n",
       "17  Priyanka   41      63000\n",
       "18      Nick   43      64000\n",
       "19      Alia   39      80000\n",
       "20       Sid   41      82000\n",
       "21     Abdul   39      58000\n",
       "22      Bale   40     157000\n",
       "23      Tony   38      60000\n",
       "24  Jennifer   26      49000\n",
       "25   Charles   42      65000"
      ]
     },
     "execution_count": 572,
     "metadata": {},
     "output_type": "execute_result"
    }
   ],
   "source": [
    "df = pd.read_csv(\"D:\\\\Cognitive Application Workshop\\\\income.csv\")\n",
    "df"
   ]
  },
  {
   "cell_type": "code",
   "execution_count": 573,
   "id": "019777d5",
   "metadata": {},
   "outputs": [
    {
     "data": {
      "text/plain": [
       "array([[    27,  70000],\n",
       "       [    29,  90000],\n",
       "       [    29,  61000],\n",
       "       [    28,  60000],\n",
       "       [    42, 150000],\n",
       "       [    39, 155000],\n",
       "       [    41, 160000],\n",
       "       [    38, 162000],\n",
       "       [    36, 156000],\n",
       "       [    35, 130000],\n",
       "       [    37, 137000],\n",
       "       [    26,  45000],\n",
       "       [    27,  48000],\n",
       "       [    28,  51000],\n",
       "       [    29,  49500],\n",
       "       [    32,  53000],\n",
       "       [    40,  65000],\n",
       "       [    41,  63000],\n",
       "       [    43,  64000],\n",
       "       [    39,  80000],\n",
       "       [    41,  82000],\n",
       "       [    39,  58000],\n",
       "       [    40, 157000],\n",
       "       [    38,  60000],\n",
       "       [    26,  49000],\n",
       "       [    42,  65000]], dtype=int64)"
      ]
     },
     "execution_count": 573,
     "metadata": {},
     "output_type": "execute_result"
    }
   ],
   "source": [
    "data = np.array([df['Age'],df['Income($)']]).T\n",
    "#X_line = X_line.reshape(X_line.shape[0],2)\n",
    "data"
   ]
  },
  {
   "cell_type": "code",
   "execution_count": 574,
   "id": "0dffdbf8",
   "metadata": {},
   "outputs": [],
   "source": [
    "ma = np.max(data, axis =0)\n",
    "mi = np.min(data, axis=0)\n",
    "data = data/(mi+ma)*100"
   ]
  },
  {
   "cell_type": "code",
   "execution_count": 575,
   "id": "e5e5f1e4",
   "metadata": {},
   "outputs": [
    {
     "data": {
      "text/plain": [
       "array([[39.13043478, 33.81642512],\n",
       "       [42.02898551, 43.47826087],\n",
       "       [42.02898551, 29.46859903],\n",
       "       [40.57971014, 28.98550725],\n",
       "       [60.86956522, 72.46376812],\n",
       "       [56.52173913, 74.87922705],\n",
       "       [59.42028986, 77.29468599],\n",
       "       [55.07246377, 78.26086957],\n",
       "       [52.17391304, 75.36231884],\n",
       "       [50.72463768, 62.80193237],\n",
       "       [53.62318841, 66.18357488],\n",
       "       [37.68115942, 21.73913043],\n",
       "       [39.13043478, 23.1884058 ],\n",
       "       [40.57971014, 24.63768116],\n",
       "       [42.02898551, 23.91304348],\n",
       "       [46.37681159, 25.60386473],\n",
       "       [57.97101449, 31.40096618],\n",
       "       [59.42028986, 30.43478261],\n",
       "       [62.31884058, 30.9178744 ],\n",
       "       [56.52173913, 38.647343  ],\n",
       "       [59.42028986, 39.61352657],\n",
       "       [56.52173913, 28.01932367],\n",
       "       [57.97101449, 75.84541063],\n",
       "       [55.07246377, 28.98550725],\n",
       "       [37.68115942, 23.67149758],\n",
       "       [60.86956522, 31.40096618]])"
      ]
     },
     "execution_count": 575,
     "metadata": {},
     "output_type": "execute_result"
    }
   ],
   "source": [
    "data"
   ]
  },
  {
   "cell_type": "code",
   "execution_count": 576,
   "id": "a65fd2c2",
   "metadata": {},
   "outputs": [
    {
     "data": {
      "text/plain": [
       "<matplotlib.collections.PathCollection at 0x2baff5560f0>"
      ]
     },
     "execution_count": 576,
     "metadata": {},
     "output_type": "execute_result"
    },
    {
     "data": {
      "image/png": "[encoded data removed]",
      "text/plain": [
       "<Figure size 432x288 with 1 Axes>"
      ]
     },
     "metadata": {
      "needs_background": "light"
     },
     "output_type": "display_data"
    }
   ],
   "source": [
    "plt.scatter(data[:,0], data[:,1])"
   ]
  },
  {
   "cell_type": "code",
   "execution_count": null,
   "id": "80b93a6f",
   "metadata": {},
   "outputs": [],
   "source": []
  },
  {
   "cell_type": "code",
   "execution_count": 577,
   "id": "7b5084a5",
   "metadata": {},
   "outputs": [],
   "source": [
    "def initialise(X, K):\n",
    "    n = X.shape[1]\n",
    "    m = X.shape[0]\n",
    "    centroid = np.array([]).reshape(n,0)\n",
    "    index = np.random.choice(m, K, replace=False)\n",
    "    for k in range(K):\n",
    "        centroid = np.c_[centroid,X[index[k]]]\n",
    "    return centroid"
   ]
  },
  {
   "cell_type": "code",
   "execution_count": 578,
   "id": "5623c066",
   "metadata": {},
   "outputs": [],
   "source": [
    "def closest(X, K):\n",
    "    output = {}\n",
    "    m = X.shape[0]\n",
    "    centroid = initialise(X, K)\n",
    "    for i in range(m):\n",
    "        dis = np.random.randn(K,)\n",
    "        for j in range(K):\n",
    "            dis[j] = (centroid[0,j] - X[i,0])**2 + (centroid[1,j] - X[i,1])**2\n",
    "        mi = np.min(dis, axis=0)\n",
    "        min_index = np.where(dis == mi)\n",
    "        output[i]=min_index[0]\n",
    "        centroid[0,min_index[0]] = (centroid[0,min_index[0]] + X[i,0])/2\n",
    "        centroid[1,min_index[0]] = (centroid[1,min_index[0]] + X[i,1])/2\n",
    "        \n",
    "    return output, centroid"
   ]
  },
  {
   "cell_type": "code",
   "execution_count": 579,
   "id": "93598c72",
   "metadata": {},
   "outputs": [
    {
     "data": {
      "image/png": "[encoded data removed]",
      "text/plain": [
       "<Figure size 432x288 with 1 Axes>"
      ]
     },
     "metadata": {
      "needs_background": "light"
     },
     "output_type": "display_data"
    }
   ],
   "source": [
    "colour = {0 : 'red', 1 : 'blue', 2 : 'green'}\n",
    "output, centroid = closest(data, 3)\n",
    "m = data.shape[0]\n",
    "while True:\n",
    "    output_prev = {}\n",
    "    for i in range(m):\n",
    "        output_prev[i] = output[i][0] \n",
    "    output, centroid = closest(data, 3)\n",
    "    f = 0\n",
    "    for i in range(m):\n",
    "        if (output_prev[i] != output[i][0]):\n",
    "            f=1\n",
    "            break\n",
    "    if (f==0):\n",
    "        break\n",
    "for i in range(m):\n",
    "    plt.scatter(data[i,0],data[i,1], color = colour[output[i][0]])\n",
    "plt.scatter(centroid[0,:],centroid[1,:],color = 'black')\n",
    "plt.show()\n"
   ]
  },
  {
   "cell_type": "code",
   "execution_count": 580,
   "id": "4732de3d",
   "metadata": {},
   "outputs": [],
   "source": [
    "def K_means(X, K):\n",
    "    m = X.shape[0]\n",
    "    output, centroid = closest(data, K)\n",
    "    while True:\n",
    "        output_prev = {}\n",
    "        for i in range(m):\n",
    "            output_prev[i] = output[i][0] \n",
    "        output, centroid = closest(data, K)\n",
    "        f = 0\n",
    "        for i in range(m):\n",
    "            if (output_prev[i] != output[i][0]):\n",
    "                f=1\n",
    "                break\n",
    "        if (f==0):\n",
    "            break\n",
    "    return output, centroid"
   ]
  },
  {
   "cell_type": "code",
   "execution_count": 581,
   "id": "13d81e91",
   "metadata": {},
   "outputs": [],
   "source": [
    "def elbow(X, centroid, output):\n",
    "    sum =0\n",
    "    for i in range(X.shape[0]):\n",
    "        sum = sum + (centroid[0,output[i][0]] - X[i,0])**2 + (centroid[1,output[i][0]] - X[i,1])**2\n",
    "    return sum"
   ]
  },
  {
   "cell_type": "code",
   "execution_count": null,
   "id": "911957d4",
   "metadata": {},
   "outputs": [],
   "source": []
  },
  {
   "cell_type": "code",
   "execution_count": 584,
   "id": "5d9f8860",
   "metadata": {},
   "outputs": [
    {
     "name": "stdout",
     "output_type": "stream",
     "text": [
      "1\n",
      "2\n",
      "3\n",
      "4\n",
      "5\n",
      "6\n"
     ]
    },
    {
     "data": {
      "text/plain": [
       "[<matplotlib.lines.Line2D at 0x2baff7306d8>]"
      ]
     },
     "execution_count": 584,
     "metadata": {},
     "output_type": "execute_result"
    },
    {
     "data": {
      "image/png": "[encoded data removed]",
      "text/plain": [
       "<Figure size 432x288 with 1 Axes>"
      ]
     },
     "metadata": {
      "needs_background": "light"
     },
     "output_type": "display_data"
    }
   ],
   "source": [
    "K_diff = []\n",
    "for i in range(1,7):\n",
    "    output, centroid = K_means(data, i)\n",
    "    K_diff.append(elbow(data, centroid, output))\n",
    "    print(i)\n",
    "plt.plot(range(1,7),K_diff)"
   ]
  },
  {
   "cell_type": "code",
   "execution_count": null,
   "id": "d2564bfd",
   "metadata": {},
   "outputs": [],
   "source": []
  },
  {
   "cell_type": "code",
   "execution_count": null,
   "id": "4a9562b1",
   "metadata": {},
   "outputs": [],
   "source": []
  }
 ],
 "metadata": {
  "kernelspec": {
   "display_name": "gpu2",
   "language": "python",
   "name": "gpu2"
  },
  "language_info": {
   "codemirror_mode": {
    "name": "ipython",
    "version": 3
   },
   "file_extension": ".py",
   "mimetype": "text/x-python",
   "name": "python",
   "nbconvert_exporter": "python",
   "pygments_lexer": "ipython3",
   "version": "3.6.13"
  }
 },
 "nbformat": 4,
 "nbformat_minor": 5
}
